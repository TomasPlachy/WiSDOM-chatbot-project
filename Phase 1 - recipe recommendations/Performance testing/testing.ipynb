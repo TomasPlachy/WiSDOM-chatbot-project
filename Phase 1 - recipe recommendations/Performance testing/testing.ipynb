{
 "cells": [
  {
   "cell_type": "code",
   "execution_count": 10,
   "id": "2d5267c1-9b0b-4c70-b239-69fa2f130ffe",
   "metadata": {},
   "outputs": [
    {
     "name": "stdout",
     "output_type": "stream",
     "text": [
      "['How To Make Miso Soup', 'How To Make Handmade Pasta', 'How to Make Perfect Polenta', 'How To Make Vegan Kimchi']\n",
      "['How To Bake a Brownie for One', 'How To Make Chocolate Pound Cake', 'How To Freeze Cooked Brown Rice', 'How To Make Easter Bread Bunnies']\n",
      "total: 8\n",
      "opensearch: 0\n",
      "dual encoders: 0\n"
     ]
    }
   ],
   "source": [
    "import csv\n",
    "import initialization as init\n",
    "\n",
    "def search(query, engine):\n",
    "    result = []\n",
    "    if engine == \"opensearch\":\n",
    "        response = init.search_opensearch(query)\n",
    "    else:\n",
    "        response = init.search_dual_encoders(query)\n",
    "    for hit in response['hits']['hits'][:4]:\n",
    "            result.append(hit['_source']['description'].split(' - ')[0])\n",
    "    print(result)\n",
    "    return result\n",
    "\n",
    "def test():\n",
    "    filename = \"group_annotations.csv\"\n",
    "    fields = []\n",
    "    rows = []\n",
    "    query = \"\"\n",
    "    annotated_results = []\n",
    "    total_points = 0\n",
    "    \n",
    "    points_opensearch = 0\n",
    "    points_dualencoders = 0\n",
    "    hits_1 = 0\n",
    "    hits_2 = 0\n",
    "    misses = 0\n",
    "    \n",
    "    i = 0\n",
    "    q = 0\n",
    "    r = 1\n",
    "    s = 2\n",
    "\n",
    "    with open(filename, 'r') as csvfile:\n",
    "        csvreader = csv.reader(csvfile)\n",
    "        fields = next(csvreader)\n",
    "        for row in csvreader:\n",
    "            rows.append(row)\n",
    "\n",
    "    while i < len(rows):\n",
    "        if query != rows[i][q]:\n",
    "            query = rows[i][q]\n",
    "            opensearch_results = search(query, \"opensearch\")\n",
    "            dualencoders_results = search(query, \"dual_encoders\")\n",
    "            while i < len(rows) and query == rows[i][q]:\n",
    "                total_points += int(rows[i][s])\n",
    "                annotated_results.append(rows[i])\n",
    "                i += 1\n",
    "                \n",
    "        for response in opensearch_results:\n",
    "            for reference in annotated_results:\n",
    "                if reference[r] == response:\n",
    "                    points_opensearch += reference[s]\n",
    "                    \n",
    "        for response in dualencoders_results:\n",
    "            for reference in annotated_results:\n",
    "                if reference[r] == response:\n",
    "                    points_dualencoders += reference[s]\n",
    "        break\n",
    "    \n",
    "    print (\"total: \" + str(total_points))\n",
    "    print (\"opensearch: \" + str(points_opensearch))\n",
    "    print (\"dual encoders: \" + str(points_dualencoders))\n",
    "        \n",
    "#init.del_index()\n",
    "#init.create_index()\n",
    "#init.index_doc()\n",
    "init.open_recipe_book()\n",
    "\n",
    "test()"
   ]
  },
  {
   "cell_type": "code",
   "execution_count": 2,
   "id": "a43c5131-4135-45fd-b469-080733e2aa85",
   "metadata": {},
   "outputs": [
    {
     "name": "stdout",
     "output_type": "stream",
     "text": [
      "1\n",
      "2\n",
      "3\n",
      "4\n",
      "while: 4\n",
      "while: 5\n",
      "while: 6\n",
      "while: 7\n",
      "while: 8\n",
      "10\n"
     ]
    }
   ],
   "source": [
    "rows = [1, 2, 3, 4, 5, 6 , 7, 8, 9, 10]\n",
    "i = 0\n",
    "while i < len(rows):\n",
    "    print(rows[i])\n",
    "    if rows[i] == 4:\n",
    "        while rows[i] <= 8:\n",
    "            print (\"while: \" + str(rows[i]))\n",
    "            i += 1\n",
    "    i += 1"
   ]
  }
 ],
 "metadata": {
  "kernelspec": {
   "display_name": "NLP & IR",
   "language": "python",
   "name": "nlp-ir"
  },
  "language_info": {
   "codemirror_mode": {
    "name": "ipython",
    "version": 3
   },
   "file_extension": ".py",
   "mimetype": "text/x-python",
   "name": "python",
   "nbconvert_exporter": "python",
   "pygments_lexer": "ipython3",
   "version": "3.8.12"
  }
 },
 "nbformat": 4,
 "nbformat_minor": 5
}
