{
 "cells": [
  {
   "cell_type": "code",
   "execution_count": null,
   "id": "869e4569-e1aa-48a4-b2f0-d37a3984a0aa",
   "metadata": {
    "tags": []
   },
   "outputs": [
    {
     "name": "stdout",
     "output_type": "stream",
     "text": [
      "\n",
      "Deleting index:\n",
      "{'acknowledged': True}\n",
      "\n",
      "Creating index:\n",
      "{'acknowledged': True, 'shards_acknowledged': True, 'index': 'user201'}\n",
      "BOT: Hello, I am a TaskBot and I can help you with cooking tasks. Which recipe would you like to do? \n",
      " You can also search recipes with serving sizes. (e.g. how to make chicken parmesan 4)\n"
     ]
    },
    {
     "name": "stdin",
     "output_type": "stream",
     "text": [
      " USER:  how to make chicken parmesan 4\n",
      "BOT: What ingredients would you like to include? Input None if no need to specify. \n",
      "BOT: What ingredients would you like to exclude? Input None if no need to specify. \n"
     ]
    },
    {
     "name": "stdout",
     "output_type": "stream",
     "text": [
      "BOT: Great! These are the results I found:\n"
     ]
    },
    {
     "data": {
      "text/html": [
       "\n",
       "    <div class =\"row\">\n",
       "       <div class=\"col-4\" style=\"column-rule: 1px solid lightblue; width:100%;display:inline-block;\">\n",
       "        <div class =\"images\" style=\"display:inline-block; text-align:center; margin-left:10px; margin-rigth:10px;\">\n",
       "            <img src=\"https://m.media-amazon.com/images/S/alexa-kitchen-msa-na-prod/recipes/allrecipes/a0fcc1142b78560e19f57145293f616b78260c20615afecd48ae73482af98a02.jpg\" class=\"img-responsive\" width=\"80px\"> <br>\n",
       "                      Chicken Parmesan <br>\n",
       "                      Serves 4 people <br>\n",
       "        </div>\n",
       "        <div class =\"images\" style=\"display:inline-block; text-align:center; margin-left:10px; margin-rigth:10px;\">\n",
       "          <img src=\"https://m.media-amazon.com/images/S/alexa-kitchen-msa-na-prod/recipes/foodnetwork/a81c5fd822c5815ec08c7599e36448d6fd581e8d3486aa05dd6474173946d6a4.jpg\" class=\"img-responsive\" width=\"80px\" > <br>\n",
       "                      Animal Cracker Crusted Chicken with Fuji Caramelized Apples <br>\n",
       "                      Serves 4 people <br>\n",
       "        </div>\n",
       "        <div class =\"images\" style=\"display:inline-block; text-align:center; margin-left:10px; margin-rigth:10px;\">\n",
       "          <img src=\"https://m.media-amazon.com/images/S/alexa-kitchen-msa-na-prod/recipes/foodnetwork/93cb203fe718b284bd2715a70e2a4248ebcc5910bf04ac1a968e4bcb660757d5.jpg\" class=\"img-responsive\" width=\"80px\"> <br>\n",
       "                      Chicken Parmesan <br>\n",
       "                      Serves 4 people <br>\n",
       "        </div>\n",
       "         <div class =\"images\" style=\"display:inline-block; text-align:center; margin-left:10px; margin-rigth:10px;\">\n",
       "          <img src=\"https://m.media-amazon.com/images/S/alexa-kitchen-msa-na-prod/recipes/tasty/cde5dba52d0c49f4aba2bf9c50f0cffa4ac1b62d215304e03609ce778477d46a.jpg\" class=\"img-responsive\" width=\"80px\"> <br>\n",
       "                      One Whole Chicken, Three Different Meals <br>\n",
       "                      Serves 6 people <br>\n",
       "        </div>\n",
       "       </div>\n",
       "    </div>\n",
       "    "
      ],
      "text/plain": [
       "<IPython.core.display.HTML object>"
      ]
     },
     "metadata": {},
     "output_type": "display_data"
    },
    {
     "name": "stdin",
     "output_type": "stream",
     "text": [
      "BOT: Select a number from 1 to 4, type 'more' to show more results or 'back' go back to searching:  more\n"
     ]
    },
    {
     "name": "stdout",
     "output_type": "stream",
     "text": [
      "BOT: Great! These are the results I found:\n"
     ]
    },
    {
     "data": {
      "text/html": [
       "\n",
       "    <div class =\"row\">\n",
       "       <div class=\"col-4\" style=\"column-rule: 1px solid lightblue; width:100%;display:inline-block;\">\n",
       "        <div class =\"images\" style=\"display:inline-block; text-align:center; margin-left:10px; margin-rigth:10px;\">\n",
       "            <img src=\"https://m.media-amazon.com/images/S/alexa-kitchen-msa-na-prod/recipes/epicurious/01c05c4b509837906fc5004115d07c537f1321c3a6bf707dbd9536b5beedec9b.jpg\" class=\"img-responsive\" width=\"80px\"> <br>\n",
       "                      Chicken Parmesan <br>\n",
       "                      Serves 4 people <br>\n",
       "        </div>\n",
       "        <div class =\"images\" style=\"display:inline-block; text-align:center; margin-left:10px; margin-rigth:10px;\">\n",
       "          <img src=\"https://m.media-amazon.com/images/S/alexa-kitchen-msa-na-prod/recipes/kitchenstories/fe56ac2073c172c056b64341037c04c3e7e6918a57d81fcd008569bbbd04c762.jpg\" class=\"img-responsive\" width=\"80px\" > <br>\n",
       "                      The Chicken Nugget to Replace Them All <br>\n",
       "                      Serves 2 people <br>\n",
       "        </div>\n",
       "        <div class =\"images\" style=\"display:inline-block; text-align:center; margin-left:10px; margin-rigth:10px;\">\n",
       "          <img src=\"https://m.media-amazon.com/images/S/alexa-kitchen-msa-na-prod/recipes/foodnetwork/226819e35643fb009541d121327578ec10d8f3dc45ab4e6978f30bfefd67f3c9.jpg\" class=\"img-responsive\" width=\"80px\"> <br>\n",
       "                      Chicken Parmesan <br>\n",
       "                      Serves 4 people <br>\n",
       "        </div>\n",
       "         <div class =\"images\" style=\"display:inline-block; text-align:center; margin-left:10px; margin-rigth:10px;\">\n",
       "          <img src=\"https://m.media-amazon.com/images/S/alexa-kitchen-msa-na-prod/recipes/foodnetwork/c1d4f38f288ecd81aef4d2f180781ab43331819887d223ea2713ea1409c8f1f8.jpg\" class=\"img-responsive\" width=\"80px\"> <br>\n",
       "                      Chicken Parmesan <br>\n",
       "                      Serves 8 people <br>\n",
       "        </div>\n",
       "       </div>\n",
       "    </div>\n",
       "    "
      ],
      "text/plain": [
       "<IPython.core.display.HTML object>"
      ]
     },
     "metadata": {},
     "output_type": "display_data"
    },
    {
     "name": "stdin",
     "output_type": "stream",
     "text": [
      "BOT: Select a number from 1 to 8, type 'more' to show more results or 'back' go back to searching:  back\n"
     ]
    },
    {
     "name": "stdout",
     "output_type": "stream",
     "text": [
      "BOT: Going back to searching.\n",
      "BOT: Seems you didn't find what you were looking for. Which recipe would you like to do? \n",
      " You can also search recipes with serving sizes.\n"
     ]
    },
    {
     "name": "stdin",
     "output_type": "stream",
     "text": [
      " USER:  parmasan\n",
      "BOT: What ingredients would you like to include? Input None if no need to specify. chicken\n",
      "BOT: What ingredients would you like to exclude? Input None if no need to specify. beef\n"
     ]
    },
    {
     "name": "stdout",
     "output_type": "stream",
     "text": [
      "BOT: No relevant results found.\n",
      "BOT: Search failed.\n",
      "BOT: Seems you didn't find what you were looking for. Which recipe would you like to do? \n",
      " You can also search recipes with serving sizes.\n"
     ]
    },
    {
     "name": "stdin",
     "output_type": "stream",
     "text": [
      " USER:  parmesan\n",
      "BOT: What ingredients would you like to include? Input None if no need to specify. chicken\n",
      "BOT: What ingredients would you like to exclude? Input None if no need to specify. beef\n"
     ]
    },
    {
     "name": "stdout",
     "output_type": "stream",
     "text": [
      "BOT: No relevant results found.\n",
      "BOT: Search failed.\n",
      "BOT: Seems you didn't find what you were looking for. Which recipe would you like to do? \n",
      " You can also search recipes with serving sizes.\n"
     ]
    }
   ],
   "source": [
    "import initialization as init\n",
    "import tokenization as token\n",
    "import pprint as pp\n",
    "\n",
    "def initialize():\n",
    "    init.del_index()\n",
    "    init.create_index()\n",
    "    init.index_doc()\n",
    "\n",
    "def print_ingredients(recipe):\n",
    "    print(\"Ingredients:\")\n",
    "    for ingredient in  recipe['ingredients']:\n",
    "        print(\"\\t\" + ingredient['displayText'])\n",
    "\n",
    "def print_recipe(recipe):\n",
    "    print(\"========== \" + recipe['displayName'] +\" ==========\")\n",
    "    print_ingredients(recipe)\n",
    "    print(\"Recipe:\")\n",
    "    i = 1\n",
    "    for instruction in recipe['instructions']:\n",
    "        print(\"\\t Step \" + str(i) + \": \" + instruction['stepText'])\n",
    "        i += 1\n",
    "\n",
    "def start_recipe(recipe):\n",
    "    step = -1\n",
    "    print(\"BOT: If you'd like to start the recipe say next, you can check the ingredients and if you'd like you can end the recipe.\")\n",
    "    while True:\n",
    "        x = input(\" USER: \")\n",
    "        if x == \"next\":\n",
    "            if  step <= len(recipe['instructions']):\n",
    "                step += 1\n",
    "            init.displayStep('Step ' + str(step) + ': ' + str(recipe['instructions'][step]['stepText']))\n",
    "            print(\"BOT: If you want you can see the next step, can go to the previous step or you can end the recipe.\")\n",
    "        elif x == \"previous\":\n",
    "            if step > 0:\n",
    "                step -= 1\n",
    "            init.displayStep('Step ' + str(step)+': ' +str(recipe['instructions'][step]['stepText']))\n",
    "            print(\"BOT: If you want you can see the next step, can go to the previous step or you can end the recipe.\")\n",
    "        elif x == \"ingredients\":\n",
    "            print_ingredients(recipe)\n",
    "        elif x == \"end\":\n",
    "            break\n",
    "        else:\n",
    "            print(\"BOT: I'm sorry, i couldn't understand the command. Commands: next, previous, ingredients and end.\")\n",
    "        \n",
    "def search_recipe(query, withI, withoutI, searchEngine=None):\n",
    "    if searchEngine == None:\n",
    "        response = init.search_opensearch_conditions(query,withI,withoutI)\n",
    "    else:\n",
    "        if searchEngine == \"opensearch\":\n",
    "            response = init.search_opensearch(query)\n",
    "        elif searchEngine == \"dual_encoders\":\n",
    "            response = init.search_dual_encoders(query)\n",
    "        else:\n",
    "            print(\"invalid search engine\")\n",
    "            exit()\n",
    "            \n",
    "    #pp.pprint(init.recipe_book[response['hits']['hits'][0]['fields']['id'][0]])    \n",
    "    result_number = 0\n",
    "    if not response['hits']['hits']:\n",
    "        print(\"BOT: No relevant results found.\")\n",
    "        return \"Fail\"\n",
    "            \n",
    "   \n",
    "    imgs = []\n",
    "    txts = []\n",
    "    serves = []\n",
    "    more = True\n",
    "    while more == True:\n",
    "        more = False\n",
    "        print(\"BOT: Great! These are the results I found:\")\n",
    "        for hit in response['hits']['hits'][result_number : result_number + 4 if len(response['hits']['hits']) >= 4 else len(response['hits']['hits'])]:\n",
    "            id = str(response['hits']['hits'][result_number]['_source']['doc_id'])\n",
    "            txts.append(hit['_source']['description'].split(' - ')[0])\n",
    "            imgs.append(init.recipe_book[id]['images'][0]['url'])\n",
    "            serves.append('Serves %s people' % str(init.recipe_book[id]['servings']) if str(init.recipe_book[id]['servings']) != 'None' else '')\n",
    "            result_number += 1\n",
    "        \n",
    "        init.displayResults(txts[-4], imgs[-4], serves[-4],\n",
    "                            txts[-3], imgs[-3], serves[-3],\n",
    "                            txts[-2], imgs[-2], serves[-2],\n",
    "                            txts[-1], imgs[-1], serves[-1])    \n",
    "        prompt = \"BOT: Select a number from 1 to \" + str(result_number) + \", type 'more' to show more results or 'back' go back to searching: \"   \n",
    "        select = input(prompt)\n",
    "    \n",
    "        if select.isdigit() and int(select) <= result_number and int(select) >= 1:\n",
    "            return init.recipe_book[str(response['hits']['hits'][int(select) - 1]['_source']['doc_id'])]\n",
    "        elif select == \"back\":\n",
    "            return \"back\"\n",
    "        elif select == \"more\":\n",
    "            if result_number >= len(response['hits']['hits']):\n",
    "                print (\"BOT: No more relevant results.\")\n",
    "                more = True\n",
    "            else:\n",
    "                more = True\n",
    "        else:\n",
    "            print(\"Invalid input\")\n",
    "            if result_number >= 4:\n",
    "                result_number -= 4\n",
    "            else:\n",
    "                result_number = 0\n",
    "            more = True\n",
    "            \n",
    "        \n",
    "def main(searchEngine = \"dual_encoders\"):\n",
    "    print(\"BOT: Hello, I am a TaskBot and I can help you with cooking tasks. Which recipe would you like to do? \\n You can also search recipes with serving sizes. (e.g. how to make chicken parmesan 4)\")\n",
    "    items_shown = 0\n",
    "    former_searches = []\n",
    "    \n",
    "    while True:\n",
    "        x = input(\" USER: \")\n",
    "        if x == \"quit\":\n",
    "            print(\"BOT: Quitting...\")\n",
    "            break\n",
    "        elif x == \"back\":\n",
    "            if len(former_searches) <= 1:\n",
    "                print(\"BOT: No more searches to return to.\")\n",
    "            else:\n",
    "                former_searches.pop()\n",
    "                result = search_recipe(former_searches[-1][0],former_searches[-1][1],former_searches[-1][2])\n",
    "                if result == \"Fail\":\n",
    "                    print(\"BOT: Search failed.\")\n",
    "                    print(\"BOT: Seems you didn't find what you were looking for. Which recipe would you like to do? \\n You can also search recipes with serving sizes.\")\n",
    "                elif result == \"back\":\n",
    "                    print(\"BOT: Going back to searching.\")\n",
    "                    print(\"BOT: Seems you didn't find what you were looking for. Which recipe would you like to do? \\n You can also search recipes with serving sizes.\")\n",
    "                    pass\n",
    "                else:\n",
    "                    print_recipe(result)\n",
    "                \n",
    "        elif x == \"help\":\n",
    "            print(\"BOT: Commands: \\n start - starts the application \\n quit - quits the aplication \\n any other input- searches a recipe\")\n",
    "        else:\n",
    "            withI = input(\"BOT: What ingredients would you like to include? Input None if no need to specify.\")\n",
    "            withoutI = input(\"BOT: What ingredients would you like to exclude? Input None if no need to specify.\")\n",
    "            \n",
    "            former_searches.append([x, withI, withoutI])\n",
    "            result = search_recipe(x,withI,withoutI)\n",
    "            if result == \"Fail\":\n",
    "                print(\"BOT: Search failed.\")\n",
    "                print(\"BOT: Seems you didn't find what you were looking for. Which recipe would you like to do? \\n You can also search recipes with serving sizes.\")\n",
    "            elif result == \"back\":\n",
    "                print(\"BOT: Going back to searching.\")\n",
    "                print(\"BOT: Seems you didn't find what you were looking for. Which recipe would you like to do? \\n You can also search recipes with serving sizes.\")\n",
    "                pass\n",
    "            else:\n",
    "                print(\"BOT: Here is the full recipe.\")\n",
    "                print_recipe(result)\n",
    "                start_recipe(result)\n",
    "                \n",
    "    print(\"End\")\n",
    "\n",
    "#uncomment when changing original dataset or index structure or restarting kernel\n",
    "initialize()\n",
    "init.open_recipe_book()\n",
    "main()\n",
    "    \n"
   ]
  },
  {
   "cell_type": "code",
   "execution_count": null,
   "id": "eb31e8e0-3cec-4749-92d1-7d5bf1775aea",
   "metadata": {},
   "outputs": [],
   "source": [
    "arr = list(range(1, 10))\n",
    "print(arr)\n",
    "b = 1\n",
    "for i in arr[0:5]:\n",
    "    print (i)\n",
    "    b+=1\n",
    "    "
   ]
  },
  {
   "cell_type": "code",
   "execution_count": null,
   "id": "66c00337-16b2-4aa6-88da-a191d58bb3fc",
   "metadata": {},
   "outputs": [],
   "source": [
    "for i in init.recipe_book.values():\n",
    "    if \"brownies\" in i['displayName'].lower(): print(i)"
   ]
  },
  {
   "cell_type": "code",
   "execution_count": null,
   "id": "8df45f30-3a01-4397-9da3-5ba5d66de183",
   "metadata": {},
   "outputs": [],
   "source": []
  }
 ],
 "metadata": {
  "kernelspec": {
   "display_name": "NLP & IR",
   "language": "python",
   "name": "nlp-ir"
  },
  "language_info": {
   "codemirror_mode": {
    "name": "ipython",
    "version": 3
   },
   "file_extension": ".py",
   "mimetype": "text/x-python",
   "name": "python",
   "nbconvert_exporter": "python",
   "pygments_lexer": "ipython3",
   "version": "3.8.12"
  },
  "toc-autonumbering": true
 },
 "nbformat": 4,
 "nbformat_minor": 5
}
